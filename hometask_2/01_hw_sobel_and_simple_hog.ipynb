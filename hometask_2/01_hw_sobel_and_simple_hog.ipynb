{
 "cells": [
  {
   "cell_type": "code",
   "id": "initial_id",
   "metadata": {
    "collapsed": true,
    "ExecuteTime": {
     "end_time": "2025-04-14T08:20:40.048364Z",
     "start_time": "2025-04-14T08:20:29.183395Z"
    }
   },
   "source": [
    "import json\n",
    "import os\n",
    "from math import atan2\n",
    "\n",
    "import cv2\n",
    "import random\n",
    "\n",
    "import numpy as np\n",
    "import torch\n",
    "import torchvision\n",
    "from IPython.display import clear_output\n",
    "from matplotlib import pyplot as plt\n",
    "from torchvision.datasets import FashionMNIST"
   ],
   "outputs": [],
   "execution_count": 2
  },
  {
   "metadata": {
    "ExecuteTime": {
     "end_time": "2025-04-14T08:25:04.680322Z",
     "start_time": "2025-04-14T08:25:02.636955Z"
    }
   },
   "cell_type": "code",
   "source": [
    "train_fmnist_data = FashionMNIST(\".\", train=True, transform=torchvision.transforms.ToTensor(), download=True)\n",
    "\n",
    "train_data_loader = torch.utils.data.DataLoader(\n",
    "    train_fmnist_data,\n",
    "    batch_size=128,\n",
    "    shuffle=True,\n",
    "    num_workers=6\n",
    ")\n",
    "\n",
    "random_batch = next(iter(train_data_loader))\n",
    "_image, _label = random_batch[0][0], random_batch[1][0]\n",
    "\n",
    "plt.figure()\n",
    "plt.imshow(_image.reshape(28, 28), cmap='gray')\n",
    "plt.title(f\"Image label: {_label}\")"
   ],
   "id": "fec1002453fcd315",
   "outputs": [
    {
     "data": {
      "text/plain": [
       "Text(0.5, 1.0, 'Image label: 3')"
      ]
     },
     "execution_count": 4,
     "metadata": {},
     "output_type": "execute_result"
    },
    {
     "data": {
      "text/plain": [
       "<Figure size 640x480 with 1 Axes>"
      ],
      "image/png": "[encoded data removed]"
     },
     "metadata": {},
     "output_type": "display_data"
    }
   ],
   "execution_count": 4
  },
  {
   "metadata": {
    "ExecuteTime": {
     "end_time": "2025-04-14T10:36:07.267542Z",
     "start_time": "2025-04-14T10:36:07.262660Z"
    }
   },
   "cell_type": "code",
   "source": [
    "import numpy as np\n",
    "\n",
    "def compute_sobel_gradients_two_loops(image):\n",
    "    height, width = image.shape\n",
    "    \n",
    "    # initialize image with paddings\n",
    "    padded_image = np.pad(image, ((1, 1), (1, 1)), mode='constant', constant_values=0)\n",
    "    \n",
    "    # initialize gradient matrix with zeros\n",
    "    gradient_x = np.zeros_like(image, dtype=np.float64)\n",
    "    gradient_y = np.zeros_like(image, dtype=np.float64)\n",
    "    \n",
    "    # initialize sobel matrix\n",
    "    sobel_x = np.array([[-1, 0, 1], [-2, 0, 2], [-1, 0, 1]], dtype=np.float64)\n",
    "    sobel_y = np.array([[-1, -2, -1], [0, 0, 0], [1, 2, 1]], dtype=np.float64)\n",
    "    \n",
    "    # calculate gradients \n",
    "    for i in range(1, height + 1):\n",
    "        for j in range(1, width + 1):\n",
    "            gradient_x[i - 1][j - 1] = np.sum(padded_image[i - 1: i + 2, j - 1: j + 2] * sobel_x)\n",
    "            gradient_y[i - 1][j - 1] = np.sum(padded_image[i - 1: i + 2, j - 1: j + 2] * sobel_y)\n",
    "  \n",
    "    return gradient_x, gradient_y"
   ],
   "id": "6aa7e61c4716ad98",
   "outputs": [],
   "execution_count": 36
  },
  {
   "metadata": {
    "ExecuteTime": {
     "end_time": "2025-04-14T10:36:08.874862Z",
     "start_time": "2025-04-14T10:36:08.871766Z"
    }
   },
   "cell_type": "code",
   "source": [
    "def compute_sobel_gradients_opencv(image):\n",
    "    # Apply Sobel filter for horizontal and vertical gradients\n",
    "    sobel_x = cv2.Sobel(image, cv2.CV_64F, 1, 0, ksize=3)\n",
    "    sobel_y = cv2.Sobel(image, cv2.CV_64F, 0, 1, ksize=3)\n",
    "\n",
    "    # Return gradients in both directions\n",
    "    return sobel_x, sobel_y"
   ],
   "id": "bfbb3c8b42d61cb3",
   "outputs": [],
   "execution_count": 37
  },
  {
   "metadata": {
    "ExecuteTime": {
     "end_time": "2025-04-14T10:36:09.396210Z",
     "start_time": "2025-04-14T10:36:09.387711Z"
    }
   },
   "cell_type": "code",
   "source": [
    "image = train_fmnist_data[7][0][0].numpy()\n",
    "gradients_two_loops = compute_sobel_gradients_two_loops(image)\n",
    "gradients_opencv = compute_sobel_gradients_opencv(image)\n",
    "\n",
    "assert np.allclose(gradients_two_loops[0][1:-1, 1:-1], gradients_opencv[0][1:-1, 1:-1], atol=1e-2), \"gradients_two_loops[0] and gradients_opencv[0] are not close\"\n",
    "assert np.allclose(gradients_two_loops[1][1:-1, 1:-1], gradients_opencv[1][1:-1, 1:-1], atol=1e-2), \"gradients_two_loops[1] and gradients_opencv[1] are not close\"\n",
    "print(\"Everything seems fine!\")"
   ],
   "id": "c0292e072230bcef",
   "outputs": [
    {
     "name": "stdout",
     "output_type": "stream",
     "text": [
      "Everything seems fine!\n"
     ]
    }
   ],
   "execution_count": 38
  },
  {
   "metadata": {
    "ExecuteTime": {
     "end_time": "2025-04-14T10:42:01.194858Z",
     "start_time": "2025-04-14T10:42:01.119799Z"
    }
   },
   "cell_type": "code",
   "source": [
    "image = random.choice(train_fmnist_data)[0][0].numpy()\n",
    "gradients_two_loops = compute_sobel_gradients_two_loops(image)\n",
    "\n",
    "plt.subplot(1, 3, 1)\n",
    "plt.imshow(image)\n",
    "plt.subplot(1, 3, 2)\n",
    "plt.imshow(gradients_two_loops[0])\n",
    "plt.subplot(1, 3, 3)\n",
    "plt.imshow(gradients_two_loops[1])"
   ],
   "id": "c632351e44839c5f",
   "outputs": [
    {
     "data": {
      "text/plain": [
       "<matplotlib.image.AxesImage at 0x174524aa0>"
      ]
     },
     "execution_count": 39,
     "metadata": {},
     "output_type": "execute_result"
    },
    {
     "data": {
      "text/plain": [
       "<Figure size 640x480 with 3 Axes>"
      ],
      "image/png": "[encoded data removed]"
     },
     "metadata": {},
     "output_type": "display_data"
    }
   ],
   "execution_count": 39
  },
  {
   "metadata": {
    "ExecuteTime": {
     "end_time": "2025-04-14T14:55:46.766207Z",
     "start_time": "2025-04-14T14:55:46.761941Z"
    }
   },
   "cell_type": "code",
   "source": [
    "import math\n",
    "\n",
    "def compute_gradient_magnitude(sobel_x, sobel_y):\n",
    "    gradient = np.zeros_like(sobel_x, dtype=np.float64)\n",
    "    \n",
    "    for i in range(sobel_x.shape[0]):\n",
    "        for j in range(sobel_x.shape[1]):\n",
    "            gradient[i, j] = math.sqrt(sobel_x[i, j] ** 2 +  sobel_y[i, j] ** 2)\n",
    "    \n",
    "    return gradient\n",
    "\n",
    "def compute_gradient_direction(sobel_x, sobel_y):\n",
    "    gradient = np.zeros_like(sobel_x, dtype=np.float64)\n",
    "    \n",
    "    for i in range(sobel_x.shape[0]):\n",
    "        for j in range(sobel_x.shape[1]):\n",
    "            gradient[i][j] = math.degrees(math.atan2(sobel_y[i, j], sobel_x[i, j]))\n",
    "    \n",
    "    return gradient"
   ],
   "id": "e696054392368d2b",
   "outputs": [],
   "execution_count": 103
  },
  {
   "metadata": {
    "ExecuteTime": {
     "end_time": "2025-04-14T14:55:47.328118Z",
     "start_time": "2025-04-14T14:55:47.321050Z"
    }
   },
   "cell_type": "code",
   "source": [
    "image = train_fmnist_data[7][0][0].numpy()\n",
    "gradients_two_loops = compute_sobel_gradients_two_loops(image)\n",
    "\n",
    "magnitudes = compute_gradient_magnitude(gradients_two_loops[0], gradients_two_loops[1])\n",
    "angles = compute_gradient_direction(gradients_two_loops[0], gradients_two_loops[1])\n",
    "assert np.all(magnitudes >= 0), \"Magnitudes should be non-negative\"\n",
    "assert np.all(angles > -180) and np.all(angles <= 180), \"Angles should be in the range (-180, 180]\"\n",
    "print(\"Everything seems fine!\")"
   ],
   "id": "19791cd37a6b9584",
   "outputs": [
    {
     "name": "stdout",
     "output_type": "stream",
     "text": [
      "Everything seems fine!\n"
     ]
    }
   ],
   "execution_count": 104
  },
  {
   "metadata": {
    "ExecuteTime": {
     "end_time": "2025-04-14T14:55:48.404613Z",
     "start_time": "2025-04-14T14:55:48.338952Z"
    }
   },
   "cell_type": "code",
   "source": [
    "image = random.choice(train_fmnist_data)[0][0].numpy()\n",
    "magnitudes = compute_gradient_magnitude(*compute_sobel_gradients_two_loops(image))\n",
    "\n",
    "plt.subplot(1, 2, 1)\n",
    "plt.imshow(image)\n",
    "plt.subplot(1, 2, 2)\n",
    "plt.imshow(magnitudes)"
   ],
   "id": "d974b8611219587",
   "outputs": [
    {
     "data": {
      "text/plain": [
       "<matplotlib.image.AxesImage at 0x3450b8e30>"
      ]
     },
     "execution_count": 105,
     "metadata": {},
     "output_type": "execute_result"
    },
    {
     "data": {
      "text/plain": [
       "<Figure size 640x480 with 2 Axes>"
      ],
      "image/png": "[encoded data removed]"
     },
     "metadata": {},
     "output_type": "display_data"
    }
   ],
   "execution_count": 105
  },
  {
   "metadata": {
    "ExecuteTime": {
     "end_time": "2025-04-14T14:55:49.794770Z",
     "start_time": "2025-04-14T14:55:49.788202Z"
    }
   },
   "cell_type": "code",
   "source": "magnitudes",
   "id": "c3a06c4d4dfc72ff",
   "outputs": [
    {
     "data": {
      "text/plain": [
       "array([[0.        , 0.        , 0.        , 0.        , 0.        ,\n",
       "        0.        , 0.        , 0.00784314, 0.        , 1.30885254,\n",
       "        3.28589545, 3.66280811, 3.38170216, 3.35777891, 3.43959355,\n",
       "        3.56705419, 3.87921047, 3.62317717, 1.41421356, 0.        ,\n",
       "        0.        , 0.        , 0.        , 0.        , 0.        ,\n",
       "        0.        , 0.        , 0.        ],\n",
       "       [0.        , 0.        , 0.        , 0.        , 0.        ,\n",
       "        0.        , 0.        , 0.00554594, 0.6378067 , 3.11237688,\n",
       "        3.60895554, 1.94959951, 1.31737863, 1.11732368, 1.23982361,\n",
       "        1.55983809, 2.01336554, 3.85599293, 3.10662006, 0.49358828,\n",
       "        0.00554594, 0.00784314, 0.00554594, 0.        , 0.        ,\n",
       "        0.        , 0.        , 0.        ],\n",
       "       [0.        , 0.        , 0.        , 0.        , 0.        ,\n",
       "        0.        , 0.09428091, 1.15740103, 2.86862147, 2.96429614,\n",
       "        1.83171262, 0.75914515, 1.92796053, 2.81753177, 3.08316112,\n",
       "        2.35864666, 1.29339253, 2.3126019 , 2.85302679, 2.7532708 ,\n",
       "        1.07596869, 0.00554594, 0.00784314, 0.        , 0.        ,\n",
       "        0.        , 0.        , 0.        ],\n",
       "       [0.        , 0.        , 0.        , 0.        , 0.        ,\n",
       "        0.        , 0.91440692, 2.99920284, 3.1387497 , 0.9965724 ,\n",
       "        0.77682701, 0.88396366, 1.55849672, 1.38729337, 0.35119397,\n",
       "        1.92629269, 1.4931652 , 1.12139034, 0.82857469, 2.91779999,\n",
       "        2.66278847, 0.58797381, 0.00554594, 0.        , 0.        ,\n",
       "        0.        , 0.        , 0.        ],\n",
       "       [0.        , 0.        , 0.        , 0.        , 0.        ,\n",
       "        0.        , 2.01891105, 3.32372323, 1.02792985, 1.04077574,\n",
       "        0.53428401, 1.26672128, 0.90337484, 2.82747547, 2.98003095,\n",
       "        2.06214858, 0.95617142, 0.48300609, 1.19366521, 1.02108493,\n",
       "        2.90859347, 1.53878479, 0.        , 0.        , 0.        ,\n",
       "        0.        , 0.        , 0.        ],\n",
       "       [0.        , 0.        , 0.        , 0.        , 0.        ,\n",
       "        0.        , 2.76889413, 3.0245847 , 0.17326055, 0.6245275 ,\n",
       "        0.65606333, 0.76926743, 1.40400912, 0.40439718, 0.58799992,\n",
       "        0.78699537, 1.50679093, 1.92021558, 0.71068085, 0.19402852,\n",
       "        2.52530151, 2.27272419, 0.        , 0.        , 0.        ,\n",
       "        0.        , 0.        , 0.        ],\n",
       "       [0.        , 0.        , 0.        , 0.        , 0.        ,\n",
       "        0.        , 3.12102178, 2.95194375, 0.55470443, 0.41892924,\n",
       "        0.34402685, 0.26347576, 1.12080048, 1.08378702, 1.36283398,\n",
       "        1.74894928, 1.74463534, 0.59538144, 0.78775711, 0.55128384,\n",
       "        2.49700791, 2.56129181, 0.        , 0.        , 0.        ,\n",
       "        0.        , 0.        , 0.        ],\n",
       "       [0.        , 0.        , 0.        , 0.        , 0.        ,\n",
       "        0.17746995, 3.34880841, 2.81122597, 0.40069142, 0.48579987,\n",
       "        0.96869893, 0.82446263, 1.16469933, 1.23139748, 1.18357328,\n",
       "        1.08297791, 1.39212922, 1.61547683, 0.68966109, 0.18435543,\n",
       "        2.59298444, 2.668062  , 0.02218374, 0.        , 0.        ,\n",
       "        0.        , 0.        , 0.        ],\n",
       "       [0.        , 0.        , 0.        , 0.        , 0.        ,\n",
       "        0.5037041 , 3.40306309, 2.41894361, 0.31733219, 0.23325916,\n",
       "        1.28629846, 0.75204196, 0.27078718, 0.143874  , 0.04991346,\n",
       "        0.34978992, 0.33533429, 0.84794805, 0.60803284, 0.3255138 ,\n",
       "        2.46896313, 2.86099873, 0.102262  , 0.        , 0.        ,\n",
       "        0.        , 0.        , 0.        ],\n",
       "       [0.        , 0.        , 0.        , 0.        , 0.        ,\n",
       "        0.81555432, 3.3259804 , 2.08916213, 0.51389008, 0.57901263,\n",
       "        1.00716389, 0.60886696, 0.13909143, 0.28082373, 0.43201376,\n",
       "        0.41668399, 0.22866481, 0.60369243, 0.60029472, 0.69059702,\n",
       "        2.23993335, 3.06475047, 0.27394902, 0.        , 0.        ,\n",
       "        0.        , 0.        , 0.        ],\n",
       "       [0.        , 0.        , 0.        , 0.        , 0.        ,\n",
       "        1.03530902, 3.2958026 , 1.95923078, 0.8046959 , 0.5273015 ,\n",
       "        0.45041738, 0.47387743, 0.09998081, 0.48208187, 0.1999616 ,\n",
       "        0.5759769 , 0.36862752, 0.29188704, 0.86539706, 1.10206547,\n",
       "        2.07178374, 3.16486872, 0.49743674, 0.        , 0.        ,\n",
       "        0.        , 0.        , 0.        ],\n",
       "       [0.        , 0.        , 0.        , 0.        , 0.        ,\n",
       "        1.19424487, 3.28460348, 1.88398623, 0.93239361, 0.50321531,\n",
       "        0.30517765, 0.53084773, 0.18309992, 0.32304777, 0.29850323,\n",
       "        0.50844473, 0.28522512, 0.22582247, 0.75377818, 1.32969519,\n",
       "        1.92286477, 3.15724031, 0.70877405, 0.        , 0.        ,\n",
       "        0.        , 0.        , 0.        ],\n",
       "       [0.        , 0.        , 0.        , 0.        , 0.        ,\n",
       "        1.34346787, 3.14931511, 1.91378978, 0.76439406, 0.64726077,\n",
       "        0.39156819, 0.53701151, 0.20095889, 0.0667819 , 0.09811761,\n",
       "        0.32664582, 0.16545118, 0.0350756 , 0.76754625, 1.23897992,\n",
       "        1.91398268, 3.01300021, 0.90337487, 0.        , 0.        ,\n",
       "        0.        , 0.        , 0.        ],\n",
       "       [0.        , 0.        , 0.        , 0.        , 0.        ,\n",
       "        1.49597438, 2.88235568, 2.05611399, 0.50689969, 0.72541596,\n",
       "        0.42039511, 0.73944185, 0.24059395, 0.13425288, 0.12462939,\n",
       "        0.29104283, 0.29114845, 0.3419644 , 0.86204958, 1.11880922,\n",
       "        2.10070932, 2.7542928 , 1.02792988, 0.        , 0.        ,\n",
       "        0.        , 0.        , 0.        ],\n",
       "       [0.        , 0.        , 0.        , 0.        , 0.        ,\n",
       "        1.65303307, 2.58834233, 2.15182298, 0.34904162, 0.77478521,\n",
       "        0.19607845, 0.9697778 , 0.10120386, 0.1179082 , 0.15705869,\n",
       "        0.17694927, 0.47607908, 0.6256101 , 0.83214905, 0.97254908,\n",
       "        2.26373375, 2.49511643, 1.07860967, 0.        , 0.        ,\n",
       "        0.        , 0.        , 0.        ],\n",
       "       [0.        , 0.        , 0.        , 0.        , 0.        ,\n",
       "        1.81755294, 2.35804032, 2.08056124, 0.1141978 , 0.79237034,\n",
       "        0.25517329, 1.03160358, 0.19083175, 0.3794814 , 0.35563242,\n",
       "        0.23529407, 0.57252215, 0.6275736 , 0.8312985 , 0.63951643,\n",
       "        2.19844409, 2.29182064, 1.19165371, 0.        , 0.        ,\n",
       "        0.        , 0.        , 0.        ],\n",
       "       [0.        , 0.        , 0.        , 0.        , 0.        ,\n",
       "        1.94968627, 2.26078357, 1.945351  , 0.03921568, 0.75330869,\n",
       "        0.16894634, 1.00955826, 0.22765372, 0.54157413, 0.32664578,\n",
       "        0.20928098, 0.72670807, 0.70729713, 0.83554258, 0.36048591,\n",
       "        2.0397586 , 2.16200468, 1.37577216, 0.        , 0.        ,\n",
       "        0.        , 0.        , 0.        ],\n",
       "       [0.        , 0.        , 0.        , 0.        , 0.        ,\n",
       "        2.03959281, 2.26454216, 1.8198782 , 0.22738334, 0.92177714,\n",
       "        0.28327734, 0.7664033 , 0.12163185, 0.31106715, 0.46194681,\n",
       "        0.19402847, 0.68487257, 0.44925504, 0.8360394 , 0.21792077,\n",
       "        1.87037037, 2.19385052, 1.51042007, 0.        , 0.        ,\n",
       "        0.        , 0.        , 0.        ],\n",
       "       [0.        , 0.        , 0.        , 0.        , 0.        ,\n",
       "        2.11801025, 2.31671469, 1.64392783, 0.40007686, 0.96963505,\n",
       "        0.45830368, 0.52835039, 0.06769677, 0.0992087 , 0.21848455,\n",
       "        0.24307406, 0.25852627, 0.14430093, 0.72600931, 0.11946308,\n",
       "        1.61965059, 2.32623415, 1.5490246 , 0.        , 0.        ,\n",
       "        0.        , 0.        , 0.        ],\n",
       "       [0.        , 0.        , 0.        , 0.        , 0.        ,\n",
       "        2.18448632, 2.44744224, 1.3377205 , 0.47643425, 0.65350322,\n",
       "        0.34483054, 0.75880068, 0.10196078, 0.0570989 , 0.03233808,\n",
       "        0.09096013, 0.30763704, 0.05655766, 0.6215408 , 0.49632251,\n",
       "        1.38608456, 2.44427327, 1.48368032, 0.        , 0.        ,\n",
       "        0.        , 0.        , 0.        ],\n",
       "       [0.        , 0.        , 0.        , 0.        , 0.        ,\n",
       "        2.36964668, 2.82102292, 0.82781327, 0.50904918, 0.41977271,\n",
       "        0.14881306, 0.89804772, 0.16121415, 0.25079649, 0.30748697,\n",
       "        0.07998462, 0.25977246, 0.31372552, 0.2786798 , 0.58023318,\n",
       "        1.16950886, 2.60623577, 1.41960788, 0.        , 0.        ,\n",
       "        0.        , 0.        , 0.        ],\n",
       "       [0.        , 0.        , 0.        , 0.        , 0.        ,\n",
       "        2.26329222, 2.81768464, 1.49052632, 1.33455541, 0.72911655,\n",
       "        0.10044116, 0.68682327, 0.23319322, 0.70860039, 0.82356671,\n",
       "        0.7306546 , 0.051131  , 0.09811764, 0.12767702, 0.73742175,\n",
       "        0.87599456, 2.74140375, 1.38858978, 0.        , 0.        ,\n",
       "        0.        , 0.        , 0.        ],\n",
       "       [0.        , 0.        , 0.        , 0.        , 0.        ,\n",
       "        1.45503413, 2.71155421, 3.06425366, 2.37559041, 1.76970973,\n",
       "        0.43048034, 0.46707839, 0.09982683, 0.67517063, 0.19748514,\n",
       "        0.86851898, 0.24627948, 0.23226813, 0.97586413, 1.83691071,\n",
       "        2.48081302, 2.53289021, 1.04572879, 0.        , 0.        ,\n",
       "        0.        , 0.        , 0.        ],\n",
       "       [0.        , 0.        , 0.        , 0.        , 0.        ,\n",
       "        0.4048913 , 0.96295077, 1.14607805, 2.82606645, 2.58824725,\n",
       "        0.61382255, 0.34259339, 0.14139416, 0.3068361 , 0.53841292,\n",
       "        0.53600831, 0.65725767, 0.53849866, 1.83029327, 2.34661248,\n",
       "        2.0056131 , 1.42099385, 0.41594518, 0.        , 0.        ,\n",
       "        0.        , 0.        , 0.        ],\n",
       "       [0.        , 0.        , 0.        , 0.        , 0.        ,\n",
       "        0.00784314, 0.        , 0.00784314, 3.07331415, 2.78709617,\n",
       "        0.55384431, 0.25995   , 0.18970017, 0.28065939, 0.53574997,\n",
       "        0.22819354, 0.74406531, 0.61559885, 2.23798954, 2.82357305,\n",
       "        0.00554594, 0.00784314, 0.00554594, 0.        , 0.        ,\n",
       "        0.        , 0.        , 0.        ],\n",
       "       [0.        , 0.        , 0.        , 0.        , 0.        ,\n",
       "        0.00554594, 0.00784314, 0.00554594, 2.9806502 , 2.89142769,\n",
       "        0.48300606, 0.47481757, 0.61382255, 0.8245558 , 0.75138724,\n",
       "        0.51517529, 0.66553533, 0.72090758, 2.47759364, 2.9800052 ,\n",
       "        0.01109187, 0.00784314, 0.01240109, 0.        , 0.        ,\n",
       "        0.        , 0.        , 0.        ],\n",
       "       [0.        , 0.        , 0.        , 0.        , 0.        ,\n",
       "        0.        , 0.        , 0.        , 2.6798349 , 2.8815072 ,\n",
       "        1.11132029, 0.82820343, 0.73122277, 0.58086892, 0.34456289,\n",
       "        0.96304659, 0.94378729, 1.02936513, 2.53065488, 2.77310646,\n",
       "        0.00554594, 0.00784314, 0.01240109, 0.        , 0.        ,\n",
       "        0.        , 0.        , 0.        ],\n",
       "       [0.        , 0.        , 0.        , 0.        , 0.        ,\n",
       "        0.        , 0.        , 0.        , 1.66925293, 2.98345048,\n",
       "        3.14021924, 3.01213239, 3.12023329, 3.36090104, 3.39903874,\n",
       "        3.34806438, 3.03157806, 2.99644804, 2.79779673, 1.75448897,\n",
       "        0.00784314, 0.00784314, 0.00554594, 0.        , 0.        ,\n",
       "        0.        , 0.        , 0.        ]])"
      ]
     },
     "execution_count": 106,
     "metadata": {},
     "output_type": "execute_result"
    }
   ],
   "execution_count": 106
  },
  {
   "metadata": {
    "ExecuteTime": {
     "end_time": "2025-04-14T14:55:50.736239Z",
     "start_time": "2025-04-14T14:55:50.731627Z"
    }
   },
   "cell_type": "code",
   "source": "angles",
   "id": "5930604f5bcab195",
   "outputs": [
    {
     "data": {
      "text/plain": [
       "array([[ 0.00000000e+00,  0.00000000e+00,  0.00000000e+00,\n",
       "         0.00000000e+00,  2.65650512e+01,  6.34349488e+01,\n",
       "         1.53434949e+02,  4.71210965e+01,  5.53048465e+01,\n",
       "         6.77638239e+01,  7.35385975e+01,  8.60196318e+01,\n",
       "         9.70420392e+01,  9.31424958e+01,  9.00000000e+01,\n",
       "         8.62977869e+01,  8.06747704e+01,  9.41462645e+01,\n",
       "         1.09902733e+02,  1.17818799e+02,  1.35000000e+02,\n",
       "         0.00000000e+00,  4.50000000e+01,  9.00000000e+01,\n",
       "         1.35000000e+02,  0.00000000e+00,  0.00000000e+00,\n",
       "         0.00000000e+00],\n",
       "       [ 0.00000000e+00,  0.00000000e+00,  0.00000000e+00,\n",
       "         4.50000000e+01,  3.09637565e+01, -1.35000000e+02,\n",
       "         4.52836402e+01,  6.54638453e+01,  7.25528118e+01,\n",
       "         6.68014095e+01,  7.15650512e+01,  8.61374845e+01,\n",
       "         9.50921151e+01,  9.40713628e+01,  8.94011113e+01,\n",
       "         8.55410045e+01,  8.42822168e+01,  9.37313971e+01,\n",
       "         1.11597672e+02,  1.17266597e+02,  1.09249526e+02,\n",
       "         1.12482430e+02,  1.34297020e+02,  4.50000000e+01,\n",
       "         1.35000000e+02,  1.35000000e+02,  0.00000000e+00,\n",
       "         0.00000000e+00],\n",
       "       [ 0.00000000e+00,  0.00000000e+00,  4.50000000e+01,\n",
       "         2.65650512e+01, -4.50000000e+01,  4.50000000e+01,\n",
       "         4.43867659e+01,  5.88309502e+01,  7.53084705e+01,\n",
       "         6.25432579e+01,  3.93594511e+01, -8.13843518e+01,\n",
       "        -9.74314080e+01, -1.38366461e+02, -7.71957339e+01,\n",
       "        -4.87517291e+01, -9.07848246e+01, -1.01309932e+02,\n",
       "         1.47050784e+02,  1.19267995e+02,  1.06997721e+02,\n",
       "         1.19684549e+02,  1.33939088e+02,  1.35000000e+02,\n",
       "        -1.35000000e+02,  1.53434949e+02,  1.35000000e+02,\n",
       "         0.00000000e+00],\n",
       "       [ 0.00000000e+00,  0.00000000e+00,  0.00000000e+00,\n",
       "        -4.50000000e+01,  4.42654789e+01,  3.24940012e+01,\n",
       "         3.55249680e+01,  4.52068431e+01, -4.50000000e+01,\n",
       "        -7.00168935e+01, -1.45007980e+02,  1.16565051e+02,\n",
       "         6.09453959e+01,  1.02264774e+02,  9.31798301e+01,\n",
       "         7.15650512e+01,  1.13099325e+01,  1.25537678e+02,\n",
       "        -6.34349488e+01, -9.40856168e+01,  1.36218875e+02,\n",
       "         1.32722391e+02,  1.42920067e+02,  1.46800772e+02,\n",
       "         1.35818455e+02, -1.35000000e+02,  1.80000000e+02,\n",
       "         0.00000000e+00],\n",
       "       [ 0.00000000e+00,  4.50000000e+01,  7.86900670e+01,\n",
       "         1.61565053e+02,  3.14072755e+01,  3.00973455e+01,\n",
       "         3.09637563e+01,  1.68690068e+02, -7.96951535e+01,\n",
       "         0.00000000e+00,  1.01309932e+02,  1.25537678e+02,\n",
       "        -7.86900675e+01, -7.40546041e+01, -9.48990925e+01,\n",
       "        -1.20963757e+02, -4.50000000e+01, -1.13099325e+01,\n",
       "         1.18300756e+02,  1.20963757e+02, -1.00304846e+02,\n",
       "         1.73659808e+02,  1.47514925e+02,  1.46053813e+02,\n",
       "         1.42947196e+02,  1.27568592e+02,  9.81301024e+01,\n",
       "         1.35000000e+02],\n",
       "       [ 0.00000000e+00,  0.00000000e+00,  0.00000000e+00,\n",
       "         4.59877604e+01,  3.16690860e+01,  3.09637567e+01,\n",
       "         4.40906196e+01,  1.58198591e+02,  1.49931417e+02,\n",
       "        -2.37494945e+01, -7.86900675e+01, -1.20963757e+02,\n",
       "         1.08434949e+02,  1.16565051e+02,  9.00000000e+01,\n",
       "         4.50000000e+01, -4.50000000e+01, -4.50000000e+01,\n",
       "        -9.00000000e+01, -1.39398705e+02,  1.77510447e+02,\n",
       "        -1.01309932e+02,  1.23789368e+02,  1.52689400e+02,\n",
       "         1.57169436e+02,  1.44977712e+02,  9.00000000e+01,\n",
       "         1.73659808e+02],\n",
       "       [ 0.00000000e+00, -4.50000000e+01, -9.00000000e+01,\n",
       "         2.15476652e+01,  2.49393971e+01,  3.13286936e+01,\n",
       "        -2.18014095e+01,  1.32397438e+02,  1.73659808e+02,\n",
       "        -1.34957333e+01, -6.94439548e+01, -7.59637565e+01,\n",
       "        -5.75288077e+01, -1.20963757e+02, -1.61565051e+02,\n",
       "         0.00000000e+00,  0.00000000e+00, -9.00000000e+01,\n",
       "        -1.23690068e+02, -1.46309932e+02, -1.49036243e+02,\n",
       "        -1.68690068e+02, -5.33215888e+00,  1.68846719e+02,\n",
       "         1.67005383e+02,  1.61462186e+02, -9.00000000e+01,\n",
       "        -1.46309932e+02],\n",
       "       [ 0.00000000e+00,  0.00000000e+00,  0.00000000e+00,\n",
       "         3.15794458e+00,  5.78764301e+00,  5.50805980e+01,\n",
       "         7.35237936e+00,  1.72568592e+02, -1.75236358e+02,\n",
       "        -1.62602047e+01, -7.86900675e+01, -8.10273734e+01,\n",
       "        -6.55560452e+01, -9.47636417e+01, -9.43987054e+01,\n",
       "        -8.25685920e+01, -8.69872125e+01, -1.03392498e+02,\n",
       "        -1.05642246e+02, -1.02528808e+02, -1.30601295e+02,\n",
       "        -1.49036243e+02,  1.39718103e+00,  1.54637832e+02,\n",
       "         1.64115283e+02,  1.66642049e+02, -9.00000000e+01,\n",
       "        -1.35000000e+02],\n",
       "       [ 0.00000000e+00,  0.00000000e+00,  4.50000000e+01,\n",
       "         6.44847568e+00,  3.86460762e+00,  1.80000000e+02,\n",
       "        -3.57633437e+00,  1.75236358e+02,  1.79464541e+02,\n",
       "        -2.59065080e+01, -7.70053832e+01, -9.24895529e+01,\n",
       "        -7.02011236e+01, -1.04931417e+02, -9.33664607e+01,\n",
       "        -7.59637565e+01, -8.61859252e+01, -1.03570434e+02,\n",
       "        -9.94623222e+01, -7.15650512e+01, -1.35000000e+02,\n",
       "         1.40362435e+01,  1.10409402e+01,  1.43219209e+02,\n",
       "         1.70745957e+02,  1.74008984e+02,  0.00000000e+00,\n",
       "         0.00000000e+00],\n",
       "       [ 0.00000000e+00,  0.00000000e+00,  1.93780040e+01,\n",
       "         7.39579524e+00,  6.30822746e+00,  1.37489553e+02,\n",
       "         1.58323866e+01,  1.61565051e+02,  1.75601295e+02,\n",
       "         2.44439548e+01, -3.09637565e+01, -1.01309932e+02,\n",
       "        -2.65650512e+01, -1.64744881e+02, -1.35000000e+02,\n",
       "        -6.34019175e+00, -9.00000000e+01, -1.35000000e+02,\n",
       "         1.13099325e+01, -4.50000000e+01, -1.59775141e+02,\n",
       "         1.56422465e+01,  2.00560947e+01,  1.35000000e+02,\n",
       "         1.77557021e+02,  1.78537447e+02,  0.00000000e+00,\n",
       "         0.00000000e+00],\n",
       "       [ 0.00000000e+00,  0.00000000e+00,  1.21886331e+01,\n",
       "         6.65632065e+00,  5.79524992e+00,  1.43530766e+02,\n",
       "         1.44702941e+01, -1.69777831e+02, -1.71027373e+02,\n",
       "         6.49831065e+01,  9.00000000e+01,  7.15650512e+01,\n",
       "         2.31985905e+01,  1.61565051e+02,  9.00000000e+01,\n",
       "         2.90546041e+01,  1.20963757e+02,  1.35000000e+02,\n",
       "         3.09637565e+01,  1.40710593e+02,  1.67471192e+02,\n",
       "         8.74616226e+00,  6.34019175e+00, -1.35000000e+02,\n",
       "         1.75108228e+02,  1.72673593e+02,  1.35000000e+02,\n",
       "         0.00000000e+00],\n",
       "       [ 0.00000000e+00,  0.00000000e+00,  8.17528829e+00,\n",
       "         6.16562414e+00,  6.31773162e+00, -1.75914383e+02,\n",
       "        -1.45344551e+01, -1.65963757e+02, -1.60769328e+02,\n",
       "         0.00000000e+00, -1.68690068e+02, -2.31985905e+01,\n",
       "         1.13099325e+01,  1.49036243e+02,  9.00000000e+01,\n",
       "         3.09637565e+01,  1.56801409e+02,  1.80000000e+02,\n",
       "         1.95366549e+01,  1.46888658e+02,  1.59775141e+02,\n",
       "         1.29946168e+01,  9.27263110e+01, -1.12380135e+02,\n",
       "         1.67292055e+02,  1.61634458e+02,  1.48914725e+02,\n",
       "         0.00000000e+00],\n",
       "       [ 0.00000000e+00,  0.00000000e+00, -1.59516627e+00,\n",
       "        -1.12550896e+00, -7.75717461e-01, -1.69992020e+02,\n",
       "        -3.73039483e+01, -1.59904769e+02, -1.63610460e+02,\n",
       "         9.46232221e+00, -1.71027373e+02,  1.00079798e+01,\n",
       "         6.68014095e+01,  9.00000000e+01,  9.00000000e+01,\n",
       "         4.50000000e+01,  1.53434949e+02, -1.64744881e+02,\n",
       "         0.00000000e+00,  1.63810794e+02,  1.47094757e+02,\n",
       "         4.39870535e+00, -1.62474432e+02, -1.26253838e+02,\n",
       "         1.60665190e+02,  1.66278339e+02,  1.67988522e+02,\n",
       "         0.00000000e+00],\n",
       "       [ 0.00000000e+00,  0.00000000e+00,  1.25533665e+01,\n",
       "         1.19597623e+01,  1.32558728e+01, -1.67005383e+02,\n",
       "        -8.13010235e+00,  1.62181111e+02,  1.08434949e+02,\n",
       "         9.81301024e+01,  1.68690068e+02,  7.43140797e+00,\n",
       "         7.15650512e+01,  4.50000000e+01,  0.00000000e+00,\n",
       "         0.00000000e+00,  1.64744881e+02, -1.75601295e+02,\n",
       "        -1.02221686e+01,  1.73659808e+02,  9.87461623e+01,\n",
       "         4.18491613e+00, -1.55556045e+02, -6.09453959e+01,\n",
       "         1.54895431e+02,  1.70585529e+02,  1.73350457e+02,\n",
       "         1.35000000e+02],\n",
       "       [ 0.00000000e+00,  0.00000000e+00,  1.15420151e+01,\n",
       "         1.66254773e+01,  4.13987221e+01,  1.78781125e+02,\n",
       "         6.34019175e+00, -1.63178590e+02,  4.50000000e+01,\n",
       "         1.52102729e+02,  1.80000000e+02, -2.29061004e+00,\n",
       "         0.00000000e+00,  0.00000000e+00,  0.00000000e+00,\n",
       "         0.00000000e+00,  1.61565051e+02,  1.76820170e+02,\n",
       "        -1.13099325e+01,  3.36646066e+00,  5.94702941e+01,\n",
       "         4.95739213e+01,  1.78919076e+02,  2.26198649e+01,\n",
       "         1.19981639e+02,  1.74468605e+02,  1.76973965e+02,\n",
       "         1.80000000e+02],\n",
       "       [ 0.00000000e+00,  4.50000000e+01,  5.78764324e+00,\n",
       "         5.92684768e+00,  1.30914383e+02,  1.20963757e+02,\n",
       "        -1.54983107e+02, -1.24508523e+02, -3.36900675e+01,\n",
       "         1.80000000e+02, -1.77878904e+02, -1.22647737e+01,\n",
       "        -4.50000000e+01,  4.50000000e+01,  9.00000000e+01,\n",
       "         6.68014095e+01, -1.65963757e+02, -1.76633539e+02,\n",
       "        -1.72414594e+01, -3.12213046e+00,  2.65650512e+01,\n",
       "         1.65579227e+02, -1.64054604e+02,  1.28042661e+01,\n",
       "         1.05945396e+02, -1.79879631e+02, -1.79699395e+02,\n",
       "        -1.35000000e+02],\n",
       "       [ 0.00000000e+00,  3.17872533e+01,  1.04345878e+01,\n",
       "         6.88778641e+00,  1.75030259e+02,  6.02551187e+01,\n",
       "        -1.75683972e+02, -1.45885527e+02, -3.44738685e+00,\n",
       "        -1.66429566e+02, -1.60201124e+02, -3.20053832e+01,\n",
       "        -2.97448813e+01,  1.25288077e+01,  9.63401917e+01,\n",
       "         1.46309932e+02, -1.68690068e+02, -1.73659808e+02,\n",
       "        -5.75288077e+01, -2.09245017e+01, -3.18274466e+01,\n",
       "        -1.48448615e+02, -1.71869898e+02,  1.84349488e+01,\n",
       "         7.15650512e+01,  1.76457354e+02,  1.78133588e+02,\n",
       "         0.00000000e+00],\n",
       "       [ 0.00000000e+00,  1.10785916e+01,  6.26619836e+00,\n",
       "         4.12390784e+00, -1.59443955e+02,  1.52551187e+01,\n",
       "         1.73088773e+02,  1.18610460e+02,  1.03758449e+01,\n",
       "        -1.69824489e+02, -1.54653824e+02, -3.24711923e+01,\n",
       "        -4.39870535e+00,  0.00000000e+00, -1.26869898e+02,\n",
       "        -1.26869898e+02,  1.80000000e+02,  1.61565051e+02,\n",
       "        -1.76185925e+02, -3.75041424e+01, -6.37586503e+01,\n",
       "        -1.05068488e+02,  1.77838884e+01,  6.34349488e+01,\n",
       "        -1.13099325e+01, -1.79878094e+02,  1.79830986e+02,\n",
       "         0.00000000e+00],\n",
       "       [ 0.00000000e+00, -1.39377971e+01, -7.59464355e+00,\n",
       "        -6.85707246e+00, -1.46309932e+02, -1.47435628e+01,\n",
       "         1.72998732e+02,  1.00619655e+02,  9.78240703e+00,\n",
       "        -1.55772255e+02, -1.41340192e+02,  4.39870535e+00,\n",
       "         1.66992442e+01,  6.09453959e+01, -1.52102729e+02,\n",
       "        -8.05376778e+01, -1.46309932e+02,  1.41340192e+02,\n",
       "         1.60463345e+02, -3.09637565e+01, -6.05241110e+01,\n",
       "        -1.75255684e+01,  6.74557965e+00,  1.74093859e+02,\n",
       "        -2.21663458e+01, -1.79690964e+02,  1.80000000e+02,\n",
       "         0.00000000e+00],\n",
       "       [ 0.00000000e+00,  3.15071614e+00,  1.34788720e+00,\n",
       "         4.25666581e-01, -1.45491477e+02, -4.14462374e+00,\n",
       "         1.55772255e+02,  1.44782407e+02, -1.22905243e+02,\n",
       "        -1.43972627e+02,  5.63099325e+01,  4.02363583e+01,\n",
       "         2.72631099e+00, -1.43130102e+02, -1.63072487e+02,\n",
       "        -2.65650512e+01,  4.50000000e+01,  8.05376778e+01,\n",
       "         1.52102729e+02,  1.45304846e+02, -3.36900675e+01,\n",
       "         6.70983681e+00,  8.13010235e+00, -1.72746805e+02,\n",
       "        -1.94400348e+01, -1.79812963e+02,  1.80000000e+02,\n",
       "         0.00000000e+00],\n",
       "       [ 0.00000000e+00,  2.13018262e+01,  1.60788490e+01,\n",
       "         1.53332854e+01, -1.46560131e+02, -7.23692203e+00,\n",
       "        -1.49381394e+02, -1.05292987e+02, -3.09637574e+01,\n",
       "         9.54403320e+01,  9.42678933e+01,  9.63401917e+01,\n",
       "         3.81407483e+00, -1.08434949e+02, -1.71869898e+02,\n",
       "         2.65650512e+01,  2.18014095e+01,  4.50000000e+01,\n",
       "         1.11250506e+02,  9.47636417e+01,  1.41632515e+02,\n",
       "        -2.34046896e+01, -9.46232221e+00, -1.76378515e+02,\n",
       "        -1.31725534e+01,  1.78649844e+02,  1.77417822e+02,\n",
       "         1.35000000e+02],\n",
       "       [ 0.00000000e+00,  7.38257642e+00,  8.08230314e+00,\n",
       "         1.23005401e+01, -1.70837653e+02, -4.51398846e+00,\n",
       "        -1.56376077e+02, -1.06869879e+02, -3.63072184e+01,\n",
       "        -3.95596680e+01,  8.64964684e+01,  1.12557247e+02,\n",
       "         1.31308614e+02,  6.76198649e+01,  1.01309932e+02,\n",
       "         9.00000000e+01,  6.34349488e+01,  1.74471884e+01,\n",
       "         6.05928109e+01,  1.23690068e+02, -1.48404562e+02,\n",
       "        -7.48422134e+01, -2.63950352e+01, -1.75006256e+02,\n",
       "        -1.20305961e+01,  1.72671480e+02,  1.68798132e+02,\n",
       "         1.45508022e+02],\n",
       "       [ 0.00000000e+00,  4.18209904e-01,  5.76396812e-01,\n",
       "         5.09211512e+00,  1.58198591e+02,  3.87125623e+00,\n",
       "        -1.74442408e+02, -1.41022114e+02, -5.28855352e+01,\n",
       "        -7.85782499e+01, -8.74433199e+01, -9.12293343e+01,\n",
       "        -9.15481575e+01, -8.81043778e+01, -9.02754583e+01,\n",
       "        -9.05495829e+01, -9.11525407e+01, -8.84413160e+01,\n",
       "        -8.78516482e+01, -9.49926089e+01, -1.12073546e+02,\n",
       "        -6.02647766e+01, -1.79151430e+01, -1.79492971e+02,\n",
       "        -7.59464337e+00,  1.64687181e+02,  1.63420414e+02,\n",
       "         1.58962489e+02],\n",
       "       [ 0.00000000e+00, -1.64128170e+01, -1.66418079e+01,\n",
       "        -1.74314642e+01,  1.49036243e+02,  1.02568198e+01,\n",
       "        -1.79938852e+02, -1.71034052e+02, -6.55907284e+01,\n",
       "        -8.29005664e+01, -8.82679131e+01, -8.96484965e+01,\n",
       "        -8.86116490e+01, -8.78608107e+01, -9.01216469e+01,\n",
       "        -9.04280288e+01, -9.12346317e+01, -9.13407204e+01,\n",
       "        -9.04686668e+01, -9.30826447e+01, -1.02902741e+02,\n",
       "        -2.66523483e+01, -9.08007281e+00, -1.64981639e+02,\n",
       "         0.00000000e+00,  1.77737210e+02,  1.77997467e+02,\n",
       "         1.78210090e+02],\n",
       "       [ 0.00000000e+00, -4.01354854e+01, -3.55921808e+01,\n",
       "        -4.06535363e+01, -5.36525412e+01, -9.31798301e+01,\n",
       "        -1.69573260e+02, -1.74301713e+02,  0.00000000e+00,\n",
       "         0.00000000e+00,  4.50000000e+01,  0.00000000e+00,\n",
       "        -4.00302597e+01, -7.36104601e+01, -9.08814039e+01,\n",
       "        -9.26425451e+01, -9.78533136e+01, -1.22905244e+02,\n",
       "        -1.61565053e+02,  1.08434949e+02,  9.00000000e+01,\n",
       "        -6.91727282e+00, -1.12873744e+01, -5.11466257e+01,\n",
       "        -1.36363928e+02, -1.48288654e+02, -1.55685590e+02,\n",
       "        -1.56834663e+02],\n",
       "       [ 0.00000000e+00, -4.50000000e+01, -4.23369994e+01,\n",
       "        -3.01231549e+01, -2.00803356e+01, -1.69534662e+02,\n",
       "        -1.73865861e+02, -1.76226063e+02,  9.00000000e+01,\n",
       "         1.35000000e+02,  0.00000000e+00,  0.00000000e+00,\n",
       "         0.00000000e+00,  0.00000000e+00,  1.80000000e+02,\n",
       "         1.80000000e+02,  1.80000000e+02,  1.80000000e+02,\n",
       "         1.80000000e+02,  6.34349488e+01,  9.00000000e+01,\n",
       "        -1.04914768e+01, -1.33820861e+01, -1.60908173e+01,\n",
       "        -1.56982438e+02, -1.50815044e+02, -1.48523161e+02,\n",
       "        -1.35000000e+02],\n",
       "       [ 0.00000000e+00,  0.00000000e+00, -4.30908475e+01,\n",
       "        -1.35751546e+01, -2.99609158e+01, -1.08674178e+02,\n",
       "        -1.54975539e+02, -1.69386403e+02,  9.00000000e+01,\n",
       "         1.71253838e+02, -4.50000000e+01, -6.34349488e+01,\n",
       "        -7.59637571e+01, -8.72736893e+01, -9.27263107e+01,\n",
       "        -9.30127872e+01, -9.33664603e+01, -9.81301024e+01,\n",
       "        -1.16565051e+02, -6.80350842e-07,  9.00000000e+01,\n",
       "        -8.91749500e+00, -8.81644257e+00, -1.09711591e+01,\n",
       "        -1.67305658e+02, -1.66865978e+02, -1.64400915e+02,\n",
       "         0.00000000e+00],\n",
       "       [ 0.00000000e+00,  0.00000000e+00,  0.00000000e+00,\n",
       "        -2.88937257e+01, -6.06234373e+01, -9.78553869e+01,\n",
       "        -1.22703393e+02, -1.43800198e+02, -9.00000000e+01,\n",
       "        -1.49931418e+02,  0.00000000e+00,  0.00000000e+00,\n",
       "         0.00000000e+00,  0.00000000e+00,  0.00000000e+00,\n",
       "         0.00000000e+00,  0.00000000e+00,  0.00000000e+00,\n",
       "         0.00000000e+00, -2.18014100e+01, -9.00000000e+01,\n",
       "        -2.26040328e+01, -3.21196890e+01, -6.23031947e+01,\n",
       "        -1.22030746e+02, -1.51124101e+02, -1.61241350e+02,\n",
       "         0.00000000e+00]])"
      ]
     },
     "execution_count": 107,
     "metadata": {},
     "output_type": "execute_result"
    }
   ],
   "execution_count": 107
  },
  {
   "metadata": {
    "ExecuteTime": {
     "end_time": "2025-04-14T14:55:52.744720Z",
     "start_time": "2025-04-14T14:55:52.740324Z"
    }
   },
   "cell_type": "code",
   "source": [
    "cell_size = 7\n",
    "\n",
    "def compute_hog(image, pixels_per_cell=(cell_size, cell_size), bins=9):\n",
    "    # convert to grey colors\n",
    "    if len(image.shape) == 3:\n",
    "        image = np.mean(image, axis=2)\n",
    "    \n",
    "    # get gradient, magnitudes and directions of image\n",
    "    gradient_x, gradient_y = compute_sobel_gradients_two_loops(image)\n",
    "    magnitudes = compute_gradient_magnitude(gradient_x, gradient_y)\n",
    "    directions = compute_gradient_direction(gradient_x, gradient_y)\n",
    "    \n",
    "    # get cells\n",
    "    cell_height, cell_width = pixels_per_cell\n",
    "    n_cells_x = image.shape[0] // cell_width\n",
    "    n_cells_y = image.shape[1] // cell_height\n",
    "    \n",
    "    histogram = np.zeros((n_cells_x, n_cells_y, bins))\n",
    "    \n",
    "    for i in range(n_cells_y):\n",
    "        for j in range(n_cells_x):\n",
    "            cells_mag = magnitudes[i * cell_height : (i + 1) * cell_height, j * cell_width : (j + 1) * cell_width]\n",
    "            cells_dir = directions[i * cell_height : (i + 1) * cell_height, j * cell_width : (j + 1) * cell_width]\n",
    "            \n",
    "            cells_hist, _ = np.histogram(cells_dir, bins=bins, range=(-180,180), weights=cells_mag)\n",
    "            \n",
    "            if np.sum(cells_hist) > 0:\n",
    "                cells_hist = cells_hist / np.sum(cells_hist)\n",
    "\n",
    "            histogram[i, j, :] = cells_hist\n",
    "    \n",
    "    return histogram"
   ],
   "id": "535d6ba608bc42ec",
   "outputs": [],
   "execution_count": 108
  },
  {
   "metadata": {
    "ExecuteTime": {
     "end_time": "2025-04-14T14:55:58.139189Z",
     "start_time": "2025-04-14T14:55:58.082700Z"
    }
   },
   "cell_type": "code",
   "source": [
    "image = random.choice(train_fmnist_data)[0][0].numpy()\n",
    "\n",
    "hog = compute_hog(image)\n",
    "assert hog.shape == (4, 4, 9), \"hog should have shape (4, 4, 9) for the FashionMNIST image with default parameters\"\n",
    "print(\"Everything seems fine!\")\n",
    "\n",
    "assert os.path.exists(\"hog_data.npy\") and os.path.exists(\"image_data.npy\"), \"hog_data.npy and image_data.npy should be in the same directory as the notebook\"\n",
    "with open(\"hog_data.npy\", \"rb\") as f:\n",
    "    hog_data = np.load(f, allow_pickle=True)\n",
    "with open(\"image_data.npy\", \"rb\") as f:\n",
    "    image_data = np.load(f, allow_pickle=True)\n",
    "for test_image, test_hog in zip(image_data, hog_data):\n",
    "    hog = compute_hog(test_image)\n",
    "    assert np.allclose(hog, test_hog), \"hog should be the same\""
   ],
   "id": "96945a8b4f5afaaa",
   "outputs": [
    {
     "name": "stdout",
     "output_type": "stream",
     "text": [
      "Everything seems fine!\n"
     ]
    }
   ],
   "execution_count": 110
  },
  {
   "metadata": {
    "ExecuteTime": {
     "end_time": "2025-04-14T14:56:18.315102Z",
     "start_time": "2025-04-14T14:56:17.859010Z"
    }
   },
   "cell_type": "code",
   "source": [
    "image = random.choice(train_fmnist_data)[0][0].numpy()\n",
    "hog = compute_hog(image)\n",
    "\n",
    "# draw cells on the image\n",
    "plt.imshow(image)\n",
    "for i in range(4):\n",
    "    for j in range(4):\n",
    "        plt.gca().add_patch(plt.Rectangle((j * cell_size, i * cell_size), cell_size, cell_size, fill=False, edgecolor='red', linewidth=1))\n",
    "plt.show()\n",
    "\n",
    "\n",
    "plt.figure(figsize=(10, 10))\n",
    "for i in range(4):\n",
    "    for j in range(4):\n",
    "        plt.subplot(4, 4, i * 4 + j + 1)\n",
    "        plt.bar(range(len(hog[i, j])), hog[i, j])\n",
    "        plt.title(f\"Cell {i}, {j}\")\n",
    "plt.show()"
   ],
   "id": "99bcac163912774a",
   "outputs": [
    {
     "data": {
      "text/plain": [
       "<Figure size 640x480 with 1 Axes>"
      ],
      "image/png": "[encoded data removed]"
     },
     "metadata": {},
     "output_type": "display_data"
    },
    {
     "data": {
      "text/plain": [
       "<Figure size 1000x1000 with 16 Axes>"
      ],
      "image/png": "[encoded data removed]"
     },
     "metadata": {},
     "output_type": "display_data"
    }
   ],
   "execution_count": 111
  },
  {
   "metadata": {},
   "cell_type": "code",
   "outputs": [],
   "execution_count": null,
   "source": "",
   "id": "ca01f18499266dde"
  }
 ],
 "metadata": {
  "kernelspec": {
   "display_name": "Python 3",
   "language": "python",
   "name": "python3"
  },
  "language_info": {
   "codemirror_mode": {
    "name": "ipython",
    "version": 2
   },
   "file_extension": ".py",
   "mimetype": "text/x-python",
   "name": "python",
   "nbconvert_exporter": "python",
   "pygments_lexer": "ipython2",
   "version": "2.7.6"
  }
 },
 "nbformat": 4,
 "nbformat_minor": 5
}
