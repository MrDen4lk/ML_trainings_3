{
 "cells": [
  {
   "cell_type": "code",
   "id": "initial_id",
   "metadata": {
    "collapsed": true,
    "ExecuteTime": {
     "end_time": "2025-04-12T10:39:09.644208Z",
     "start_time": "2025-04-12T10:39:08.213417Z"
    }
   },
   "source": [
    "import json\n",
    "import os\n",
    "import re\n",
    "from cgi import print_arguments\n",
    "\n",
    "import numpy as np\n",
    "import torch\n",
    "import torchvision\n",
    "from IPython.display import clear_output\n",
    "from matplotlib import pyplot as plt\n",
    "from torch import nn\n",
    "from torch.nn import functional as F\n",
    "from torchvision.datasets import FashionMNIST"
   ],
   "outputs": [],
   "execution_count": 1
  },
  {
   "metadata": {
    "ExecuteTime": {
     "end_time": "2025-04-12T11:12:52.459735Z",
     "start_time": "2025-04-12T11:12:52.437730Z"
    }
   },
   "cell_type": "code",
   "source": [
    "device = torch.device('mps' if torch.backends.mps.is_available() else 'cpu')\n",
    "device"
   ],
   "id": "c0de0357decc466b",
   "outputs": [
    {
     "data": {
      "text/plain": [
       "device(type='mps')"
      ]
     },
     "execution_count": 2,
     "metadata": {},
     "output_type": "execute_result"
    }
   ],
   "execution_count": 2
  },
  {
   "metadata": {
    "ExecuteTime": {
     "end_time": "2025-04-12T11:30:51.252994Z",
     "start_time": "2025-04-12T11:30:51.247653Z"
    }
   },
   "cell_type": "code",
   "source": [
    "def get_prediction(model, eval_data, step = 10):\n",
    "    predicted_labels = []\n",
    "    model.eval()\n",
    "    with torch.no_grad():\n",
    "        for idx in range(0, len(eval_data), step):\n",
    "            y_predicted = model(eval_data[idx:idx+step]).to(device)\n",
    "            predicted_labels.append(y_predicted.argmax(dim=1).cpu())\n",
    "    \n",
    "    predicted_labels = torch.cat(predicted_labels)\n",
    "    predicted_labels = \",\".join([str(x.item()) for x in list(predicted_labels)])\n",
    "    return predicted_labels\n",
    "\n",
    "def get_accuracy(model, data_loader):\n",
    "    predicted_labels = []\n",
    "    real_labels = []\n",
    "    model.eval()\n",
    "    with torch.no_grad():\n",
    "        for batch in data_loader:\n",
    "            y_predicted = model(batch[0].to(device))\n",
    "            predicted_labels.append(y_predicted.argmax(dim=1).cpu())\n",
    "            real_labels.append(batch[1])\n",
    "\n",
    "    predicted_labels = torch.cat(predicted_labels)\n",
    "    real_labels = torch.cat(real_labels)\n",
    "    accuracy_score = (predicted_labels == real_labels).type(torch.FloatTensor).mean()\n",
    "    return accuracy_score"
   ],
   "id": "ddd59bce8bb7cbd3",
   "outputs": [],
   "execution_count": 3
  },
  {
   "metadata": {
    "ExecuteTime": {
     "end_time": "2025-04-12T11:31:46.763936Z",
     "start_time": "2025-04-12T11:31:43.401382Z"
    }
   },
   "cell_type": "code",
   "source": "!wget https://github.com/girafe-ai/ml-course/raw/24f_ysda/homeworks/hw_overfitting/hw_overfitting_data_dict -O hw_overfitting_data_dict.npy",
   "id": "53d537ab90b46c9c",
   "outputs": [
    {
     "name": "stdout",
     "output_type": "stream",
     "text": [
      "--2025-04-12 14:31:44--  https://github.com/girafe-ai/ml-course/raw/24f_ysda/homeworks/hw_overfitting/hw_overfitting_data_dict\r\n",
      "Resolving github.com (github.com)... 140.82.121.4\r\n",
      "Connecting to github.com (github.com)|140.82.121.4|:443... connected.\r\n",
      "HTTP request sent, awaiting response... 302 Found\r\n",
      "Location: https://raw.githubusercontent.com/girafe-ai/ml-course/24f_ysda/homeworks/hw_overfitting/hw_overfitting_data_dict [following]\r\n",
      "--2025-04-12 14:31:45--  https://raw.githubusercontent.com/girafe-ai/ml-course/24f_ysda/homeworks/hw_overfitting/hw_overfitting_data_dict\r\n",
      "Resolving raw.githubusercontent.com (raw.githubusercontent.com)... 185.199.110.133, 185.199.111.133, 185.199.109.133, ...\r\n",
      "Connecting to raw.githubusercontent.com (raw.githubusercontent.com)|185.199.110.133|:443... connected.\r\n",
      "HTTP request sent, awaiting response... 200 OK\r\n",
      "Length: 6272446 (6.0M) [application/octet-stream]\r\n",
      "Saving to: ‘hw_overfitting_data_dict.npy’\r\n",
      "\r\n",
      "hw_overfitting_data 100%[===================>]   5.98M  6.51MB/s    in 0.9s    \r\n",
      "\r\n",
      "2025-04-12 14:31:46 (6.51 MB/s) - ‘hw_overfitting_data_dict.npy’ saved [6272446/6272446]\r\n",
      "\r\n"
     ]
    }
   ],
   "execution_count": 5
  },
  {
   "metadata": {
    "ExecuteTime": {
     "end_time": "2025-04-12T11:31:49.412523Z",
     "start_time": "2025-04-12T11:31:49.409951Z"
    }
   },
   "cell_type": "code",
   "source": [
    "assert os.path.exists(\n",
    "    \"hw_overfitting_data_dict.npy\"\n",
    "), \"Please, download `hw_overfitting_data_dict.npy` and place it in the working directory\""
   ],
   "id": "6295d2a57b564267",
   "outputs": [],
   "execution_count": 6
  },
  {
   "metadata": {
    "ExecuteTime": {
     "end_time": "2025-04-12T12:10:04.025122Z",
     "start_time": "2025-04-12T12:10:03.989339Z"
    }
   },
   "cell_type": "code",
   "source": [
    "train_data = FashionMNIST(\".\", train=True, transform=torchvision.transforms.ToTensor(), download=True)\n",
    "test_data = FashionMNIST(\".\", train=False, transform=torchvision.transforms.ToTensor(), download=True)\n",
    "\n",
    "train_data_loader = torch.utils.data.DataLoader(\n",
    "    train_data,\n",
    "    batch_size = 256,\n",
    "    shuffle = True,\n",
    "    num_workers = 6\n",
    ")\n",
    "\n",
    "test_data_loader = torch.utils.data.DataLoader(\n",
    "    test_data,\n",
    "    batch_size = 256,\n",
    "    shuffle = False,\n",
    "    num_workers = 6\n",
    ")"
   ],
   "id": "f162eda83069721b",
   "outputs": [],
   "execution_count": 63
  },
  {
   "metadata": {
    "ExecuteTime": {
     "end_time": "2025-04-12T12:10:04.544017Z",
     "start_time": "2025-04-12T12:10:04.405088Z"
    }
   },
   "cell_type": "code",
   "source": [
    "cols = 8\n",
    "rows = 2\n",
    "fig = plt.figure(figsize=(2 * cols, 2.5 * rows))\n",
    "for i in range(cols):\n",
    "    for j in range(rows):\n",
    "        random_index = np.random.randint(0, len(train_data))\n",
    "        ax = fig.add_subplot(rows, cols, i * rows + j + 1)\n",
    "        ax.grid(False)\n",
    "        ax.set_xticks([])\n",
    "        ax.set_yticks([])\n",
    "        ax.imshow(train_data[random_index][0].squeeze(0).numpy().reshape([28, 28]), cmap = 'gray')\n",
    "        ax.set_xlabel(train_data[random_index][1])\n",
    "plt.show()"
   ],
   "id": "45d0054f17cdec14",
   "outputs": [
    {
     "data": {
      "text/plain": [
       "<Figure size 1600x500 with 16 Axes>"
      ],
      "image/png": "[encoded data removed]"
     },
     "metadata": {},
     "output_type": "display_data"
    }
   ],
   "execution_count": 64
  },
  {
   "metadata": {
    "ExecuteTime": {
     "end_time": "2025-04-12T12:10:07.615929Z",
     "start_time": "2025-04-12T12:10:05.399079Z"
    }
   },
   "cell_type": "code",
   "source": [
    "random_batch = next(iter(train_data_loader))\n",
    "_image, _label = random_batch[0][0], random_batch[1][0]\n",
    "plt.figure()\n",
    "plt.imshow(_image.reshape(28, 28))\n",
    "plt.title(f\"Image label: {_label}\")"
   ],
   "id": "6c0a0ff04b6cc6fd",
   "outputs": [
    {
     "data": {
      "text/plain": [
       "Text(0.5, 1.0, 'Image label: 8')"
      ]
     },
     "execution_count": 65,
     "metadata": {},
     "output_type": "execute_result"
    },
    {
     "data": {
      "text/plain": [
       "<Figure size 640x480 with 1 Axes>"
      ],
      "image/png": "[encoded data removed]"
     },
     "metadata": {},
     "output_type": "display_data"
    }
   ],
   "execution_count": 65
  },
  {
   "metadata": {
    "ExecuteTime": {
     "end_time": "2025-04-12T12:10:08.939069Z",
     "start_time": "2025-04-12T12:10:08.935620Z"
    }
   },
   "cell_type": "code",
   "source": "train_data.classes",
   "id": "51aa3048fc4fb985",
   "outputs": [
    {
     "data": {
      "text/plain": [
       "['T-shirt/top',\n",
       " 'Trouser',\n",
       " 'Pullover',\n",
       " 'Dress',\n",
       " 'Coat',\n",
       " 'Sandal',\n",
       " 'Shirt',\n",
       " 'Sneaker',\n",
       " 'Bag',\n",
       " 'Ankle boot']"
      ]
     },
     "execution_count": 66,
     "metadata": {},
     "output_type": "execute_result"
    }
   ],
   "execution_count": 66
  },
  {
   "metadata": {
    "ExecuteTime": {
     "end_time": "2025-04-12T12:14:09.998534Z",
     "start_time": "2025-04-12T12:14:09.994285Z"
    }
   },
   "cell_type": "code",
   "source": [
    "class Model(nn.Module):\n",
    "    def __init__(self):\n",
    "        super().__init__()\n",
    "        self.encoder = nn.Sequential( # 28x28\n",
    "            nn.Conv2d(in_channels=1, out_channels=6, kernel_size=5), # 24x24\n",
    "            nn.ReLU(),\n",
    "            nn.AvgPool2d(kernel_size=2), # 12x12\n",
    "            #nn.Conv2d(in_channels=6, out_channels=16, kernel_size=5) # 8x8\n",
    "        )\n",
    "        \n",
    "        self.head = nn.Sequential(\n",
    "            nn.Linear(in_features=6 * 12 * 12, out_features=256),\n",
    "            nn.ReLU(),\n",
    "            nn.Linear(in_features=256, out_features=10)\n",
    "        )\n",
    "    \n",
    "    def forward(self, image):\n",
    "        out = self.encoder(image)\n",
    "        out = out.view(out.size(0), -1)\n",
    "        return self.head(out)"
   ],
   "id": "3bc958e0275fafd1",
   "outputs": [],
   "execution_count": 76
  },
  {
   "metadata": {
    "ExecuteTime": {
     "end_time": "2025-04-12T12:14:56.015559Z",
     "start_time": "2025-04-12T12:14:56.007381Z"
    }
   },
   "cell_type": "code",
   "source": [
    "model_task_1 = Model().to(device)\n",
    "optimizer = torch.optim.Adam(model_task_1.parameters(), lr=0.01)\n",
    "criterion = nn.CrossEntropyLoss()"
   ],
   "id": "5ec7ba2514fbb30f",
   "outputs": [],
   "execution_count": 81
  },
  {
   "metadata": {
    "ExecuteTime": {
     "end_time": "2025-04-12T12:14:56.912276Z",
     "start_time": "2025-04-12T12:14:56.907466Z"
    }
   },
   "cell_type": "code",
   "source": [
    "assert model_task_1 is not None, \"Please, use `model_task_1` variable to store your model\"\n",
    "\n",
    "try:\n",
    "    x = random_batch[0].to(device)\n",
    "    y = random_batch[1].to(device)\n",
    "\n",
    "    # compute outputs given inputs, both are variables\n",
    "    y_predicted = model_task_1(x)\n",
    "except Exception as e:\n",
    "    print(\"Something is wrong with the model\")\n",
    "    raise e\n",
    "\n",
    "\n",
    "assert y_predicted.shape[-1] == 10, \"Model should predict 10 logits/probas\"\n",
    "\n",
    "print(\"Everything seems fine!\")"
   ],
   "id": "23dc935fea2c2baa",
   "outputs": [
    {
     "name": "stdout",
     "output_type": "stream",
     "text": [
      "Everything seems fine!\n"
     ]
    }
   ],
   "execution_count": 82
  },
  {
   "metadata": {
    "ExecuteTime": {
     "end_time": "2025-04-12T12:15:24.941706Z",
     "start_time": "2025-04-12T12:14:57.448142Z"
    }
   },
   "cell_type": "code",
   "source": [
    "from tqdm.notebook import tqdm\n",
    "\n",
    "NUM_EPOCHS = 10\n",
    "\n",
    "for epoch in range(NUM_EPOCHS):\n",
    "    for batch in tqdm(train_data_loader):\n",
    "        image = batch[0].to(device)\n",
    "        label = batch[1].to(device)\n",
    "        \n",
    "        optimizer.zero_grad()\n",
    "        y_predicted = model_task_1(image)\n",
    "        loss = criterion(y_predicted, label)\n",
    "        \n",
    "        loss.backward()\n",
    "        optimizer.step()"
   ],
   "id": "86ff8ca95a924457",
   "outputs": [
    {
     "data": {
      "text/plain": [
       "  0%|          | 0/235 [00:00<?, ?it/s]"
      ],
      "application/vnd.jupyter.widget-view+json": {
       "version_major": 2,
       "version_minor": 0,
       "model_id": "9239ea13a46b4dfea43e616580c05aba"
      }
     },
     "metadata": {},
     "output_type": "display_data"
    },
    {
     "data": {
      "text/plain": [
       "  0%|          | 0/235 [00:00<?, ?it/s]"
      ],
      "application/vnd.jupyter.widget-view+json": {
       "version_major": 2,
       "version_minor": 0,
       "model_id": "cb079eede461454d8f029008564e869a"
      }
     },
     "metadata": {},
     "output_type": "display_data"
    },
    {
     "data": {
      "text/plain": [
       "  0%|          | 0/235 [00:00<?, ?it/s]"
      ],
      "application/vnd.jupyter.widget-view+json": {
       "version_major": 2,
       "version_minor": 0,
       "model_id": "53906e341cdf49a0bc341b46e916279d"
      }
     },
     "metadata": {},
     "output_type": "display_data"
    },
    {
     "data": {
      "text/plain": [
       "  0%|          | 0/235 [00:00<?, ?it/s]"
      ],
      "application/vnd.jupyter.widget-view+json": {
       "version_major": 2,
       "version_minor": 0,
       "model_id": "805c6d06cefb42ba9169062f311db8a7"
      }
     },
     "metadata": {},
     "output_type": "display_data"
    },
    {
     "data": {
      "text/plain": [
       "  0%|          | 0/235 [00:00<?, ?it/s]"
      ],
      "application/vnd.jupyter.widget-view+json": {
       "version_major": 2,
       "version_minor": 0,
       "model_id": "3586aa3c74af4afcaadcf942687d355d"
      }
     },
     "metadata": {},
     "output_type": "display_data"
    },
    {
     "data": {
      "text/plain": [
       "  0%|          | 0/235 [00:00<?, ?it/s]"
      ],
      "application/vnd.jupyter.widget-view+json": {
       "version_major": 2,
       "version_minor": 0,
       "model_id": "19b3bd07e41546dbb6ae9e8378f804c0"
      }
     },
     "metadata": {},
     "output_type": "display_data"
    },
    {
     "data": {
      "text/plain": [
       "  0%|          | 0/235 [00:00<?, ?it/s]"
      ],
      "application/vnd.jupyter.widget-view+json": {
       "version_major": 2,
       "version_minor": 0,
       "model_id": "165f9ef8c1854db29cfe0550b9196d7b"
      }
     },
     "metadata": {},
     "output_type": "display_data"
    },
    {
     "data": {
      "text/plain": [
       "  0%|          | 0/235 [00:00<?, ?it/s]"
      ],
      "application/vnd.jupyter.widget-view+json": {
       "version_major": 2,
       "version_minor": 0,
       "model_id": "9fcedb8a25b547e8bbab16a9236d14a1"
      }
     },
     "metadata": {},
     "output_type": "display_data"
    },
    {
     "data": {
      "text/plain": [
       "  0%|          | 0/235 [00:00<?, ?it/s]"
      ],
      "application/vnd.jupyter.widget-view+json": {
       "version_major": 2,
       "version_minor": 0,
       "model_id": "4b82caa9bef340789660ce2c9b95f2dd"
      }
     },
     "metadata": {},
     "output_type": "display_data"
    },
    {
     "data": {
      "text/plain": [
       "  0%|          | 0/235 [00:00<?, ?it/s]"
      ],
      "application/vnd.jupyter.widget-view+json": {
       "version_major": 2,
       "version_minor": 0,
       "model_id": "5e7b52d73a4d4801b8a7b4f24191f822"
      }
     },
     "metadata": {},
     "output_type": "display_data"
    }
   ],
   "execution_count": 83
  },
  {
   "metadata": {
    "ExecuteTime": {
     "end_time": "2025-04-12T12:15:56.331402Z",
     "start_time": "2025-04-12T12:15:53.882888Z"
    }
   },
   "cell_type": "code",
   "source": [
    "train_acc_task_1 = get_accuracy(model_task_1, train_data_loader)\n",
    "print(f\"Neural network accuracy on train set: {train_acc_task_1:3.5}\")"
   ],
   "id": "71f54280a306955a",
   "outputs": [
    {
     "name": "stdout",
     "output_type": "stream",
     "text": [
      "Neural network accuracy on train set: 0.95833\n"
     ]
    }
   ],
   "execution_count": 84
  },
  {
   "metadata": {
    "ExecuteTime": {
     "end_time": "2025-04-12T12:16:08.688861Z",
     "start_time": "2025-04-12T12:16:06.461970Z"
    }
   },
   "cell_type": "code",
   "source": [
    "test_acc_task_1 = get_accuracy(model_task_1, test_data_loader)\n",
    "print(f\"Neural network accuracy on test set: {test_acc_task_1:3.5}\")"
   ],
   "id": "bcc34c5bdaa3daa6",
   "outputs": [
    {
     "name": "stdout",
     "output_type": "stream",
     "text": [
      "Neural network accuracy on test set: 0.9046\n"
     ]
    }
   ],
   "execution_count": 85
  },
  {
   "metadata": {
    "ExecuteTime": {
     "end_time": "2025-04-12T12:16:18.885606Z",
     "start_time": "2025-04-12T12:16:18.883627Z"
    }
   },
   "cell_type": "code",
   "source": [
    "assert test_acc_task_1 >= 0.885, \"Train accuracy is below 0.885 threshold\"\n",
    "assert (\n",
    "        train_acc_task_1 >= 0.905\n",
    "), \"Train accuracy is below 0.905 while test accuracy is fine. We recommend to check your model and data flow\""
   ],
   "id": "38ed1139d34dedd",
   "outputs": [],
   "execution_count": 86
  },
  {
   "metadata": {
    "ExecuteTime": {
     "end_time": "2025-04-12T12:17:17.565097Z",
     "start_time": "2025-04-12T12:17:17.392218Z"
    }
   },
   "cell_type": "code",
   "source": [
    "assert os.path.exists(\n",
    "    \"hw_fmnist_data_dict.npy\"\n",
    "), \"Please, download `hw_fmnist_data_dict.npy` and place it in the working directory\"\n",
    "\n",
    "loaded_data_dict = np.load(\"hw_fmnist_data_dict.npy\", allow_pickle=True)\n",
    "\n",
    "submission_dict = {\n",
    "    \"train_predictions_task_1\": get_prediction(\n",
    "        model_task_1, torch.FloatTensor(loaded_data_dict.item()[\"train\"]).to(device)\n",
    "    ),\n",
    "    \"test_predictions_task_1\": get_prediction(\n",
    "        model_task_1, torch.FloatTensor(loaded_data_dict.item()[\"test\"]).to(device)\n",
    "    ),\n",
    "}\n",
    "\n",
    "with open(\"submission_dict_fmnist_task_1.json\", \"w\") as iofile:\n",
    "    json.dump(submission_dict, iofile)\n",
    "print(\"File saved to `submission_dict_fmnist_task_1.json`\")"
   ],
   "id": "8f7dae721b59acd0",
   "outputs": [
    {
     "name": "stdout",
     "output_type": "stream",
     "text": [
      "File saved to `submission_dict_fmnist_task_1.json`\n"
     ]
    }
   ],
   "execution_count": 89
  },
  {
   "metadata": {},
   "cell_type": "code",
   "outputs": [],
   "execution_count": null,
   "source": "",
   "id": "f9707d23c1c6df41"
  }
 ],
 "metadata": {
  "kernelspec": {
   "display_name": "Python 3",
   "language": "python",
   "name": "python3"
  },
  "language_info": {
   "codemirror_mode": {
    "name": "ipython",
    "version": 2
   },
   "file_extension": ".py",
   "mimetype": "text/x-python",
   "name": "python",
   "nbconvert_exporter": "python",
   "pygments_lexer": "ipython2",
   "version": "2.7.6"
  }
 },
 "nbformat": 4,
 "nbformat_minor": 5
}
