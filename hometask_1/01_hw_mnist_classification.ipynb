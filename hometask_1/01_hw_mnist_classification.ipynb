{
 "cells": [
  {
   "cell_type": "code",
   "id": "initial_id",
   "metadata": {
    "collapsed": true,
    "ExecuteTime": {
     "end_time": "2025-04-11T20:37:19.586647Z",
     "start_time": "2025-04-11T20:37:18.528609Z"
    }
   },
   "source": [
    "import numpy as np\n",
    "\n",
    "import torch\n",
    "from torch import nn\n",
    "from torch.nn import functional as F\n",
    "\n",
    "import torchvision\n",
    "from torchvision.datasets import MNIST\n",
    "\n",
    "from matplotlib import pyplot as plt\n",
    "from IPython.display import clear_output"
   ],
   "outputs": [],
   "execution_count": 1
  },
  {
   "metadata": {
    "ExecuteTime": {
     "end_time": "2025-04-11T20:43:29.137321Z",
     "start_time": "2025-04-11T20:43:21.012411Z"
    }
   },
   "cell_type": "code",
   "source": [
    "train_data = MNIST('.', train = True, transform=torchvision.transforms.ToTensor(), download=True)\n",
    "test_data = MNIST('.', train = False, transform = torchvision.transforms.ToTensor(), download=True)"
   ],
   "id": "d8d08437fee0d978",
   "outputs": [
    {
     "name": "stderr",
     "output_type": "stream",
     "text": [
      "100%|██████████| 9.91M/9.91M [00:01<00:00, 5.79MB/s]\n",
      "100%|██████████| 28.9k/28.9k [00:00<00:00, 226kB/s]\n",
      "100%|██████████| 1.65M/1.65M [00:00<00:00, 2.00MB/s]\n",
      "100%|██████████| 4.54k/4.54k [00:00<00:00, 3.26MB/s]\n"
     ]
    }
   ],
   "execution_count": 2
  },
  {
   "metadata": {
    "ExecuteTime": {
     "end_time": "2025-04-11T20:54:35.270484Z",
     "start_time": "2025-04-11T20:54:35.267232Z"
    }
   },
   "cell_type": "code",
   "source": [
    "train_data_loader = torch.utils.data.DataLoader(\n",
    "    train_data,\n",
    "    batch_size=256,\n",
    "    shuffle=True,\n",
    "    num_workers=6\n",
    ")\n",
    "\n",
    "test_data_loader = torch.utils.data.DataLoader(\n",
    "    test_data,\n",
    "    batch_size=256,\n",
    "    shuffle=False,\n",
    "    num_workers=6\n",
    ")"
   ],
   "id": "17dece1c392b352a",
   "outputs": [],
   "execution_count": 3
  },
  {
   "metadata": {
    "ExecuteTime": {
     "end_time": "2025-04-11T20:54:42.159412Z",
     "start_time": "2025-04-11T20:54:42.153222Z"
    }
   },
   "cell_type": "code",
   "source": [
    "device = torch.device(\"mps\" if torch.backends.mps.is_available() else \"cpu\")\n",
    "device"
   ],
   "id": "1d41e0824c6f2c12",
   "outputs": [
    {
     "data": {
      "text/plain": [
       "device(type='mps')"
      ]
     },
     "execution_count": 5,
     "metadata": {},
     "output_type": "execute_result"
    }
   ],
   "execution_count": 5
  },
  {
   "metadata": {
    "ExecuteTime": {
     "end_time": "2025-04-11T20:55:00.615660Z",
     "start_time": "2025-04-11T20:54:57.874788Z"
    }
   },
   "cell_type": "code",
   "source": [
    "random_batch = next(iter(train_data_loader))\n",
    "_image, _label = random_batch[0][0], random_batch[1][0]\n",
    "plt.figure()\n",
    "plt.imshow(_image.reshape(28, 28))\n",
    "plt.title(f'Image label: {_label}')"
   ],
   "id": "1307b881e1ef1da1",
   "outputs": [
    {
     "data": {
      "text/plain": [
       "Text(0.5, 1.0, 'Image label: 2')"
      ]
     },
     "execution_count": 6,
     "metadata": {},
     "output_type": "execute_result"
    },
    {
     "data": {
      "text/plain": [
       "<Figure size 640x480 with 1 Axes>"
      ],
      "image/png": "[encoded data removed]"
     },
     "metadata": {},
     "output_type": "display_data"
    }
   ],
   "execution_count": 6
  },
  {
   "metadata": {
    "ExecuteTime": {
     "end_time": "2025-04-11T21:09:06.324799Z",
     "start_time": "2025-04-11T21:09:06.321127Z"
    }
   },
   "cell_type": "code",
   "source": [
    "class MLP(nn.Module):\n",
    "    def __init__(self, in_features, out_features, num_classes):\n",
    "        super().__init__()\n",
    "        self.model = nn.Sequential(\n",
    "            nn.Linear(in_features=in_features, out_features=out_features),\n",
    "            nn.ReLU(),\n",
    "            nn.Linear(in_features=out_features, out_features=out_features, bias=False),\n",
    "            nn.ReLU(),\n",
    "            nn.Linear(in_features=out_features, out_features=num_classes)\n",
    "        )\n",
    "        \n",
    "    def forward(self, x):\n",
    "        return self.model(x)\n",
    "    "
   ],
   "id": "e5843751be33354f",
   "outputs": [],
   "execution_count": 11
  },
  {
   "metadata": {
    "ExecuteTime": {
     "end_time": "2025-04-11T21:11:21.256692Z",
     "start_time": "2025-04-11T21:11:21.204231Z"
    }
   },
   "cell_type": "code",
   "source": [
    "IMG_SIZE = 28\n",
    "NUM_CLASSES = 10\n",
    "HIDDEN_SIZE = 64\n",
    "NUM_EPOCHS = 10\n",
    "\n",
    "model = MLP(IMG_SIZE ** 2, HIDDEN_SIZE, NUM_CLASSES).to(device)\n",
    "\n",
    "optimizer = torch.optim.SGD(model.parameters(), lr=0.01, momentum=0.9)\n",
    "\n",
    "criterion = nn.CrossEntropyLoss()"
   ],
   "id": "3b025ed2b18d1a1a",
   "outputs": [],
   "execution_count": 12
  },
  {
   "metadata": {
    "ExecuteTime": {
     "end_time": "2025-04-11T21:12:04.866889Z",
     "start_time": "2025-04-11T21:12:04.581042Z"
    }
   },
   "cell_type": "code",
   "source": [
    "assert model is not None, 'Please, use `model` variable to store your model'\n",
    "\n",
    "try:\n",
    "    x = random_batch[0].reshape(-1, 784).to(device)\n",
    "    y = random_batch[1].to(device)\n",
    "\n",
    "    # compute outputs given inputs, both are variables\n",
    "    y_predicted = model(x).to(device)\n",
    "except Exception as e:\n",
    "    print('Something is wrong with the model')\n",
    "    raise e\n",
    "\n",
    "\n",
    "assert y_predicted.shape[-1] == 10, 'Model should predict 10 logits/probas'\n",
    "\n",
    "print('Everything seems fine!')"
   ],
   "id": "7fb9b9fe0497cd92",
   "outputs": [
    {
     "name": "stdout",
     "output_type": "stream",
     "text": [
      "Everything seems fine!\n"
     ]
    }
   ],
   "execution_count": 15
  },
  {
   "metadata": {
    "ExecuteTime": {
     "end_time": "2025-04-11T21:48:08.736432Z",
     "start_time": "2025-04-11T21:47:44.719925Z"
    }
   },
   "cell_type": "code",
   "source": [
    "from tqdm.notebook import tqdm\n",
    "\n",
    "for epoch in range(NUM_EPOCHS):\n",
    "    for image, label in tqdm(train_data_loader):\n",
    "        \n",
    "        images = image.to(device)\n",
    "        labels = label.to(device)\n",
    "        \n",
    "        optimizer.zero_grad()\n",
    "\n",
    "        logits = model(torch.flatten(images, start_dim=1))\n",
    "        loss = criterion(logits, labels)\n",
    "        \n",
    "        loss.backward()\n",
    "        optimizer.step()"
   ],
   "id": "125877d3db6f9d77",
   "outputs": [
    {
     "data": {
      "text/plain": [
       "  0%|          | 0/235 [00:00<?, ?it/s]"
      ],
      "application/vnd.jupyter.widget-view+json": {
       "version_major": 2,
       "version_minor": 0,
       "model_id": "f222c04a346f449b9ce0d1f04b923f55"
      }
     },
     "metadata": {},
     "output_type": "display_data"
    },
    {
     "data": {
      "text/plain": [
       "  0%|          | 0/235 [00:00<?, ?it/s]"
      ],
      "application/vnd.jupyter.widget-view+json": {
       "version_major": 2,
       "version_minor": 0,
       "model_id": "151a8186cebc4820af483fe654fd853b"
      }
     },
     "metadata": {},
     "output_type": "display_data"
    },
    {
     "data": {
      "text/plain": [
       "  0%|          | 0/235 [00:00<?, ?it/s]"
      ],
      "application/vnd.jupyter.widget-view+json": {
       "version_major": 2,
       "version_minor": 0,
       "model_id": "6fbaf06bb8b24ba88f3c362b204f4f67"
      }
     },
     "metadata": {},
     "output_type": "display_data"
    },
    {
     "data": {
      "text/plain": [
       "  0%|          | 0/235 [00:00<?, ?it/s]"
      ],
      "application/vnd.jupyter.widget-view+json": {
       "version_major": 2,
       "version_minor": 0,
       "model_id": "8c4a262571d7466f8707164353039848"
      }
     },
     "metadata": {},
     "output_type": "display_data"
    },
    {
     "data": {
      "text/plain": [
       "  0%|          | 0/235 [00:00<?, ?it/s]"
      ],
      "application/vnd.jupyter.widget-view+json": {
       "version_major": 2,
       "version_minor": 0,
       "model_id": "023bec0d88b740c59d3f44a354470fed"
      }
     },
     "metadata": {},
     "output_type": "display_data"
    },
    {
     "data": {
      "text/plain": [
       "  0%|          | 0/235 [00:00<?, ?it/s]"
      ],
      "application/vnd.jupyter.widget-view+json": {
       "version_major": 2,
       "version_minor": 0,
       "model_id": "cb22b2797e964b2582c29ab0eb39fdb3"
      }
     },
     "metadata": {},
     "output_type": "display_data"
    },
    {
     "data": {
      "text/plain": [
       "  0%|          | 0/235 [00:00<?, ?it/s]"
      ],
      "application/vnd.jupyter.widget-view+json": {
       "version_major": 2,
       "version_minor": 0,
       "model_id": "16c747c63fb84d8d865cb1895f6d4765"
      }
     },
     "metadata": {},
     "output_type": "display_data"
    },
    {
     "data": {
      "text/plain": [
       "  0%|          | 0/235 [00:00<?, ?it/s]"
      ],
      "application/vnd.jupyter.widget-view+json": {
       "version_major": 2,
       "version_minor": 0,
       "model_id": "65cdf9d4ce55436bb8ca4eb427e6d7f2"
      }
     },
     "metadata": {},
     "output_type": "display_data"
    },
    {
     "data": {
      "text/plain": [
       "  0%|          | 0/235 [00:00<?, ?it/s]"
      ],
      "application/vnd.jupyter.widget-view+json": {
       "version_major": 2,
       "version_minor": 0,
       "model_id": "79b28d6437214edabd88c4a4379bca03"
      }
     },
     "metadata": {},
     "output_type": "display_data"
    },
    {
     "data": {
      "text/plain": [
       "  0%|          | 0/235 [00:00<?, ?it/s]"
      ],
      "application/vnd.jupyter.widget-view+json": {
       "version_major": 2,
       "version_minor": 0,
       "model_id": "c4e730c75cda4552a5d1c9513653af9a"
      }
     },
     "metadata": {},
     "output_type": "display_data"
    }
   ],
   "execution_count": 21
  },
  {
   "metadata": {
    "ExecuteTime": {
     "end_time": "2025-04-11T21:53:02.460632Z",
     "start_time": "2025-04-11T21:53:00.212833Z"
    }
   },
   "cell_type": "code",
   "source": [
    "predicted_labels = []\n",
    "real_labels = []\n",
    "model.eval()\n",
    "model.to(device)\n",
    "\n",
    "with torch.no_grad():\n",
    "    for batch in train_data_loader:\n",
    "        inputs = batch[0].to(device)\n",
    "        targets = batch[1].to(device)\n",
    "\n",
    "        y_predicted = model(inputs.reshape(-1, 784)).to(device)\n",
    "\n",
    "        predicted_labels.append(y_predicted.argmax(dim=1))\n",
    "        real_labels.append(targets)\n",
    "\n",
    "predicted_labels = torch.cat(predicted_labels).cpu()\n",
    "real_labels = torch.cat(real_labels).cpu()\n",
    "\n",
    "train_acc = (predicted_labels == real_labels).float().mean()"
   ],
   "id": "5c768540445c4b27",
   "outputs": [],
   "execution_count": 23
  },
  {
   "metadata": {
    "ExecuteTime": {
     "end_time": "2025-04-11T21:53:10.658303Z",
     "start_time": "2025-04-11T21:53:10.656330Z"
    }
   },
   "cell_type": "code",
   "source": "print(f'Neural network accuracy on train set: {train_acc:3.5}')",
   "id": "f1d9542899502d5e",
   "outputs": [
    {
     "name": "stdout",
     "output_type": "stream",
     "text": [
      "Neural network accuracy on train set: 0.97372\n"
     ]
    }
   ],
   "execution_count": 24
  },
  {
   "metadata": {
    "ExecuteTime": {
     "end_time": "2025-04-11T21:54:25.171751Z",
     "start_time": "2025-04-11T21:54:23.103411Z"
    }
   },
   "cell_type": "code",
   "source": [
    "predicted_labels = []\n",
    "real_labels = []\n",
    "model.eval()\n",
    "model.to(device)\n",
    "\n",
    "with torch.no_grad():\n",
    "    for batch in test_data_loader:\n",
    "        inputs = batch[0].to(device)\n",
    "        targets = batch[1].to(device)\n",
    "\n",
    "        y_predicted = model(inputs.reshape(-1, 784)).to(device)\n",
    "\n",
    "        predicted_labels.append(y_predicted.argmax(dim=1))\n",
    "        real_labels.append(targets)\n",
    "\n",
    "predicted_labels = torch.cat(predicted_labels).cpu()\n",
    "real_labels = torch.cat(real_labels).cpu()\n",
    "\n",
    "test_acc = (predicted_labels == real_labels).float().mean()"
   ],
   "id": "d5fc12488a5c7420",
   "outputs": [],
   "execution_count": 27
  },
  {
   "metadata": {
    "ExecuteTime": {
     "end_time": "2025-04-11T21:54:26.194388Z",
     "start_time": "2025-04-11T21:54:26.191677Z"
    }
   },
   "cell_type": "code",
   "source": "print(f'Neural network accuracy on test set: {test_acc:3.5}')",
   "id": "e21d4ec3ed5f5cb5",
   "outputs": [
    {
     "name": "stdout",
     "output_type": "stream",
     "text": [
      "Neural network accuracy on test set: 0.9679\n"
     ]
    }
   ],
   "execution_count": 28
  },
  {
   "metadata": {
    "ExecuteTime": {
     "end_time": "2025-04-11T21:54:33.774577Z",
     "start_time": "2025-04-11T21:54:33.772382Z"
    }
   },
   "cell_type": "code",
   "source": [
    "assert test_acc >= 0.92, 'Test accuracy is below 0.92 threshold'\n",
    "assert train_acc >= 0.91, 'Train accuracy is below 0.91 while test accuracy is fine. We recommend to check your model and data flow'"
   ],
   "id": "30bc2f4068538317",
   "outputs": [],
   "execution_count": 29
  },
  {
   "metadata": {
    "ExecuteTime": {
     "end_time": "2025-04-11T22:03:23.263459Z",
     "start_time": "2025-04-11T22:03:23.174241Z"
    }
   },
   "cell_type": "code",
   "source": [
    "import os\n",
    "import json\n",
    "assert os.path.exists('hw_mnist_data_dict.npy'), 'Please, download `hw_mnist_data_dict.npy` and place it in the working directory'\n",
    "\n",
    "def get_predictions(model, eval_data, step=10):\n",
    "    predicted_labels = []\n",
    "    model.eval()\n",
    "    model.to(device)\n",
    "    with torch.no_grad():\n",
    "        for idx in range(0, len(eval_data), step):\n",
    "            inputs = eval_data[idx:idx+step].reshape(-1, 784).to(device)\n",
    "\n",
    "            y_predicted = model(inputs)\n",
    "\n",
    "            predicted_labels.append(y_predicted.argmax(dim=1).cpu())\n",
    "\n",
    "    predicted_labels = torch.cat(predicted_labels).numpy()\n",
    "    return ','.join(map(str, predicted_labels.tolist()))\n",
    "\n",
    "loaded_data_dict = np.load('hw_mnist_data_dict.npy', allow_pickle=True)\n",
    "\n",
    "submission_dict = {\n",
    "    'train': get_predictions(model, torch.FloatTensor(loaded_data_dict.item()['train']).to(device)),\n",
    "    'test': get_predictions(model, torch.FloatTensor(loaded_data_dict.item()['test']).to(device))\n",
    "}\n",
    "\n",
    "with open('submission_dict_mnist_task_1.json', 'w') as iofile:\n",
    "    json.dump(submission_dict, iofile)\n",
    "print('File saved successfully')"
   ],
   "id": "2e98b03aa161290e",
   "outputs": [
    {
     "name": "stdout",
     "output_type": "stream",
     "text": [
      "File saved successfully\n"
     ]
    }
   ],
   "execution_count": 38
  },
  {
   "metadata": {},
   "cell_type": "code",
   "outputs": [],
   "execution_count": null,
   "source": "",
   "id": "438c956bbc9ed890"
  }
 ],
 "metadata": {
  "kernelspec": {
   "display_name": "Python 3",
   "language": "python",
   "name": "python3"
  },
  "language_info": {
   "codemirror_mode": {
    "name": "ipython",
    "version": 2
   },
   "file_extension": ".py",
   "mimetype": "text/x-python",
   "name": "python",
   "nbconvert_exporter": "python",
   "pygments_lexer": "ipython2",
   "version": "2.7.6"
  }
 },
 "nbformat": 4,
 "nbformat_minor": 5
}
